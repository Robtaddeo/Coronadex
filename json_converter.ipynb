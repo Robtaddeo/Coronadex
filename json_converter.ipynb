{
 "cells": [
  {
   "cell_type": "code",
   "execution_count": 1,
   "metadata": {},
   "outputs": [],
   "source": [
    "import yfinance as yf\n",
    "import pandas as pd\n",
    "import time\n",
    "import datetime\n",
    "import json"
   ]
  },
  {
   "cell_type": "code",
   "execution_count": 6,
   "metadata": {},
   "outputs": [],
   "source": [
    "def convert_timestamp(item_date_object):\n",
    "    if isinstance(item_date_object, (datetime.date, datetime.datetime)):\n",
    "        return item_date_object.timestamp() * 1000"
   ]
  },
  {
   "cell_type": "code",
   "execution_count": 7,
   "metadata": {},
   "outputs": [],
   "source": [
    "def get_stock_data_json(ticker):\n",
    "    stock = yf.Ticker(ticker)\n",
    "    hist = stock.history(period=\"YTD\")\n",
    "    hist.reset_index(inplace=True)\n",
    "    hist['Volume'] = hist['Volume'] / 1000000\n",
    "    hist = hist[['Date', 'Close', 'Volume']] \n",
    "    out = []\n",
    "    close = {\n",
    "        \"name\": \"Price\",\n",
    "        \"data\": [],\n",
    "        \"type\" : \"line\",\n",
    "        \"color\" : \"#ffa600\"\n",
    "    }\n",
    "    volume = {\n",
    "        \"name\": \"Volume\",\n",
    "        \"data\": [],\n",
    "        \"type\": \"column\",\n",
    "        \"color\" : \"#70a1ff\",\n",
    "        \"yAxis\" : 1,\n",
    "        \n",
    "    }\n",
    "    for index, row in hist.iterrows():\n",
    "        close['data'].append([row['Date'], row['Close']])\n",
    "        volume['data'].append([row['Date'], row['Volume']])\n",
    "        \n",
    "    out.append(volume)\n",
    "    out.append(close)\n",
    "    json_out = json.dumps(out, default=convert_timestamp)\n",
    "    with open('./client/public/Data/' + ticker + '.json', 'w') as f:\n",
    "        f.write(json_out)"
   ]
  },
  {
   "cell_type": "code",
   "execution_count": 11,
   "metadata": {},
   "outputs": [],
   "source": [
    "stocks = [\n",
    "    {\n",
    "        \"name\" : \"Alphabet\",\n",
    "        \"ticker\" : \"GOOG\"\n",
    "    },\n",
    "    {\n",
    "        \"name\" : \"S&P 500 Spyder ETF\",\n",
    "        \"ticker\" : \"SPY\"\n",
    "    },\n",
    "    {\n",
    "        \"name\" : \"Dow Jones Industrial Average\",\n",
    "        \"ticker\" : \"DJI\"\n",
    "    }\n",
    "]\n",
    "for stock in stocks:\n",
    "    get_stock_data_json(stock['ticker'])\n",
    "stock_list = json.dumps(stocks)\n",
    "with open('./client/public/Data/stocks.json', 'w') as f:\n",
    "    f.write(stock_list)"
   ]
  },
  {
   "cell_type": "code",
   "execution_count": null,
   "metadata": {},
   "outputs": [],
   "source": []
  }
 ],
 "metadata": {
  "kernelspec": {
   "display_name": "Python 3",
   "language": "python",
   "name": "python3"
  },
  "language_info": {
   "codemirror_mode": {
    "name": "ipython",
    "version": 3
   },
   "file_extension": ".py",
   "mimetype": "text/x-python",
   "name": "python",
   "nbconvert_exporter": "python",
   "pygments_lexer": "ipython3",
   "version": "3.6.5"
  }
 },
 "nbformat": 4,
 "nbformat_minor": 2
}
